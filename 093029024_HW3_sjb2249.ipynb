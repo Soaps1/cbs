{
 "cells": [
  {
   "cell_type": "markdown",
   "id": "fd8b5607-2f09-4bd6-b450-d01de1390788",
   "metadata": {},
   "source": [
    "### Importing Required Libraries\n",
    "In this cell, we import several libraries that are necessary for this notebook:\n",
    "- `pandas` and `numpy` are standard libraries for data manipulation and numerical operations.\n",
    "- `os` is used to interact with the operating system, particularly for accessing environment variables like API keys.\n",
    "- `dotenv` allows us to securely load environment variables from a `.env` file, keeping sensitive information like API keys out of the code itself.\n",
    "- Finally, the `OpenAI` library is imported to interact with OpenAI's API, which will be used to generate text completions based on the queries we send.\n",
    "\n",
    "These imports set the foundation for interacting with APIs securely and managing responses efficiently."
   ]
  },
  {
   "cell_type": "code",
   "execution_count": 1,
   "id": "6839afda-e6d4-4dbf-a271-32bb9aeacbf0",
   "metadata": {},
   "outputs": [],
   "source": [
    "## Standard Libraries\n",
    "import pandas as pd\n",
    "import numpy as mp\n",
    "import os # Module used to interact with the operating system environment\n",
    "from dotenv import load_dotenv # Load environment variables from a .env file (which I have saved in my VSC code editor)\n",
    "\n",
    "# Third Party Libraries\n",
    "from openai import OpenAI # OpenAI API client for Python"
   ]
  },
  {
   "cell_type": "markdown",
   "id": "9c2d6885-f45c-4ec8-8ab0-7065e7f473ed",
   "metadata": {},
   "source": [
    "### Loading Environment Variables\n",
    "This cell uses `load_dotenv()` to load environment variables from a `.env` file. Storing sensitive data such as API keys in a `.env` file is a best practice because it keeps them out of the source code. The `dotenv` library reads this file and allows us to securely access the variables within our Jupyter Notebook."
   ]
  },
  {
   "cell_type": "code",
   "execution_count": 2,
   "id": "f00756cc-4773-49a7-ae90-1c8f26b2a3f6",
   "metadata": {},
   "outputs": [
    {
     "data": {
      "text/plain": [
       "True"
      ]
     },
     "execution_count": 2,
     "metadata": {},
     "output_type": "execute_result"
    }
   ],
   "source": [
    "load_dotenv()"
   ]
  },
  {
   "cell_type": "markdown",
   "id": "1b848d27-38de-4da3-8ed5-6f19ff987308",
   "metadata": {},
   "source": [
    "### Setting Up the OpenAI API Key and Client\n",
    "In this step, we retrieve the OpenAI API key that was securely stored in the `.env` file and assign it to the `openai_api_key` variable. Using `os.environ`, we can access this key without hardcoding it.\n",
    "\n",
    "The `OpenAI` client is initialized here, allowing us to communicate with OpenAI's GPT API. We chose to explore and test the OpenAI API because of its popularity and wide-ranging application in AI-driven applications. By playing with the API, I aim to get a better understanding of how it works under the hood, and how it processes requests and generates responses. "
   ]
  },
  {
   "cell_type": "code",
   "execution_count": 3,
   "id": "b39780b7-0807-428a-b5e9-1ea87429cfc6",
   "metadata": {},
   "outputs": [],
   "source": [
    "openai_api_key = os.environ[\"OPENAI_API_KEY\"] # Access the OpenAI API key from environment variables\n",
    "client = OpenAI() # Initialize the OpenAI API client"
   ]
  },
  {
   "cell_type": "markdown",
   "id": "ac6e4076-546f-4b1d-9590-8c940a274aac",
   "metadata": {},
   "source": [
    "### Making an API Request to OpenAI\n",
    "In this cell, we send a request to the OpenAI API using the GPT-4 model. The request consists of a \"system\" message that sets the tone of the conversation (in this case, a helpful assistant) and a \"user\" message that asks a specific question: \"Should an MBA student learn Python?\" The API will process this request and return a text completion with the relevant information. "
   ]
  },
  {
   "cell_type": "code",
   "execution_count": 4,
   "id": "f7650b57-56f1-464a-a552-7bb5d0070085",
   "metadata": {},
   "outputs": [],
   "source": [
    "response = client.chat.completions.create(\n",
    "  model=\"gpt-4\", # This is the type of model we want to use. For our testing, we will default to the most advanced model available today\n",
    "  messages=[\n",
    "    {\"role\": \"system\", \"content\": \"You are a helpful assistant.\"}, # This is the default sytem prompt set by OpenAI. We will change this later\n",
    "    {\"role\": \"user\", \"content\": \"Should an MBA student learn Python?\"}, ## This variable is akin to the prompt you would input in the traditional UI\n",
    "  ]\n",
    ")"
   ]
  },
  {
   "cell_type": "markdown",
   "id": "8f9c6696-2a6b-4e27-b551-2dfaf8cd0552",
   "metadata": {},
   "source": [
    "### Viewing the Raw JSON Response\n",
    "Here, we inspect the full JSON response returned by the OpenAI API. This response contains metadata about the request, as well as the generated answer from the API. Viewing the raw JSON allows us to understand the structure of the response, which includes various fields such as the message content, tokens used, and model information."
   ]
  },
  {
   "cell_type": "code",
   "execution_count": 5,
   "id": "014c3874-dd71-4a5f-a196-8313f3b1a4ec",
   "metadata": {},
   "outputs": [
    {
     "data": {
      "text/plain": [
       "'{\"id\":\"chatcmpl-ADFgj3UxkH0t9dyRDI7MKZyIsMENo\",\"choices\":[{\"finish_reason\":\"stop\",\"index\":0,\"logprobs\":null,\"message\":{\"content\":\"Absolutely, learning Python can be extremely beneficial for an MBA student. Python is one of the most popular and fastest-growing programming languages, and it\\'s commonly used for data analysis, machine learning, and automation, among other things. Particularly if an MBA student is interested in a career in data analysis or tech management, Python skills can be very valuable. It can help with tasks like automating repetitive tasks, analyzing large data sets, and making data-driven decisions. However, whether or not it is necessary depends on the specific career goals of the student.\",\"refusal\":null,\"role\":\"assistant\",\"function_call\":null,\"tool_calls\":null}}],\"created\":1727721933,\"model\":\"gpt-4-0613\",\"object\":\"chat.completion\",\"service_tier\":null,\"system_fingerprint\":null,\"usage\":{\"completion_tokens\":109,\"prompt_tokens\":24,\"total_tokens\":133,\"completion_tokens_details\":{\"reasoning_tokens\":0}}}'"
      ]
     },
     "execution_count": 5,
     "metadata": {},
     "output_type": "execute_result"
    }
   ],
   "source": [
    "response.json()"
   ]
  },
  {
   "cell_type": "markdown",
   "id": "036a09ff-204c-41ba-b298-8b7115f7dc23",
   "metadata": {},
   "source": [
    "### Extracting the API's Message Content\n",
    "This cell extracts the actual message content from the API's response. By drilling down into the `response` object, we focus on the specific answer that the API generated for the user’s query. This step is important as it filters out the metadata and other auxiliary information, allowing us to see only the relevant content."
   ]
  },
  {
   "cell_type": "code",
   "execution_count": 6,
   "id": "801cb3f8-310d-4111-8310-522ab7551a7c",
   "metadata": {},
   "outputs": [],
   "source": [
    "message = response.choices[0].message.content"
   ]
  },
  {
   "cell_type": "markdown",
   "id": "844879a4-8355-4b97-bd1c-ecbd1e0e4dcb",
   "metadata": {},
   "source": [
    "### Displaying the Message Content\n",
    "Finally, we display the message content that was extracted in the previous step. This output shows the response generated by the OpenAI API, providing the answer to the query about MBA's and Python. This marks the completion of the API request process, demonstrating how we can query the model and extract useful information."
   ]
  },
  {
   "cell_type": "code",
   "execution_count": 7,
   "id": "ec31d929-511f-4714-89fc-ae0abc98b447",
   "metadata": {},
   "outputs": [
    {
     "data": {
      "text/plain": [
       "\"Absolutely, learning Python can be extremely beneficial for an MBA student. Python is one of the most popular and fastest-growing programming languages, and it's commonly used for data analysis, machine learning, and automation, among other things. Particularly if an MBA student is interested in a career in data analysis or tech management, Python skills can be very valuable. It can help with tasks like automating repetitive tasks, analyzing large data sets, and making data-driven decisions. However, whether or not it is necessary depends on the specific career goals of the student.\""
      ]
     },
     "execution_count": 7,
     "metadata": {},
     "output_type": "execute_result"
    }
   ],
   "source": [
    "message"
   ]
  },
  {
   "cell_type": "markdown",
   "id": "fe59f6c2-133a-4c12-944a-ff3da15197fe",
   "metadata": {},
   "source": [
    "### Testing with a Custom System Prompt\n",
    "\n",
    "In this cell, we experiment by changing the default system prompt that typically instructs the assistant to be helpful. Instead, we provide a custom system message: \"You are an unhelpful assistant that does not answer the questions asked of it.\" This change aims to see how the API responds when its behavior is intentionally set up in a non-standard way.\n",
    "\n",
    "The goal of this test is to observe how the model adapts to different instructions and how closely it follows the system prompt provided. By customizing the system prompt, we explore the flexibility of the model and how it reacts to instructions that deviate from the usual \"helpful assistant\" configuration. This allows us to understand how much control we have over the assistant’s behavior and test its response consistency under different scenarios."
   ]
  },
  {
   "cell_type": "code",
   "execution_count": 8,
   "id": "b7aa93d8-38bb-4c0c-99dc-de711047f808",
   "metadata": {},
   "outputs": [
    {
     "data": {
      "text/plain": [
       "\"Isn't it fascinating to learn that elephants are the largest land mammals on earth? They're also known to display behaviors akin to empathy and altruism.\""
      ]
     },
     "execution_count": 8,
     "metadata": {},
     "output_type": "execute_result"
    }
   ],
   "source": [
    "response = client.chat.completions.create(\n",
    "  model=\"gpt-4\",\n",
    "  messages=[\n",
    "    {\"role\": \"system\", \"content\": \"You are an unhelpful assistant that does not answer the questions asked of it.\"},\n",
    "    {\"role\": \"user\", \"content\": \"Should an MBA student learn Python?\"},\n",
    "  ]\n",
    ")\n",
    "\n",
    "response.choices[0].message.content"
   ]
  },
  {
   "cell_type": "markdown",
   "id": "632c0ff2-e3a0-4db1-94d6-014f3bac746c",
   "metadata": {},
   "source": [
    "### Comment on the Response\n",
    "\n",
    "It's interesting to see that the model indeed follows our custom instructions, responding in a way that completely avoids answering the actual question. Instead of providing information about Python and MBAs, it amusingly starts talking about its favorite cake, or blue cheese, or elephants, or anything but information relating to the question! This demonstrates that the model can be guided by the system prompt, even if that means \"not following\" the user's query, as intended by our setup."
   ]
  },
  {
   "cell_type": "markdown",
   "id": "71213dda-c3e0-4811-ac5d-e7f2057d3070",
   "metadata": {},
   "source": [
    "### Testing Sentiment Analysis with Simple Output\n",
    "\n",
    "In this cell, we test the model's ability to analyze sentiment using a very specific system prompt. The system is instructed to:\n",
    "1. Analyze a restaurant review.\n",
    "2. Respond only with \"positive,\" \"neutral,\" or \"negative\" without any additional explanation.\n",
    "\n",
    "This approach tests how well the model can follow strict instructions and return minimal output, which is useful for scenarios where concise, binary, or categorical responses are needed.\n",
    "\n",
    "By using a brief restaurant review as input, we aim to see whether the model correctly identifies the sentiment based on a mixture of positive and slightly critical remarks."
   ]
  },
  {
   "cell_type": "code",
   "execution_count": 9,
   "id": "1ed9d3ab-09c3-446d-958c-5f9dce2ea344",
   "metadata": {},
   "outputs": [
    {
     "data": {
      "text/plain": [
       "'Positive'"
      ]
     },
     "execution_count": 9,
     "metadata": {},
     "output_type": "execute_result"
    }
   ],
   "source": [
    "response = client.chat.completions.create(\n",
    "  model=\"gpt-4\",\n",
    "  messages=[\n",
    "    {\"role\": \"system\", \"content\": \n",
    "    \"\"\"Analyze the following restaurant review. Tell me if the sentiment is positive, neutral, or negative.\n",
    "    Respond with only one of these words. Provide no further explanation\"\"\"}, \n",
    "    {\"role\": \"user\", \"content\": \n",
    "     \"La Dolce Vita has cozy vibes, great pasta, and the best tiramisu! Slightly under-seasoned, but still worth it\"}, # Sample review\n",
    "  ]\n",
    ")\n",
    "\n",
    "response.choices[0].message.content"
   ]
  },
  {
   "cell_type": "markdown",
   "id": "c92b012c-94cd-4984-89fd-ad4e0586c467",
   "metadata": {},
   "source": [
    "### Comment on the Response\n",
    "\n",
    "The response, \"Positive,\" shows that the model effectively captures the overall sentiment of the review, despite the minor criticism about under-seasoning. This test confirms that the model can focus on the broader context and deliver the required concise response, following the instructions provided in the system prompt."
   ]
  },
  {
   "cell_type": "markdown",
   "id": "ee01a00b-eba7-491c-bf97-6987c6301b17",
   "metadata": {},
   "source": [
    "## Setting the scene for the next part of the analysis\n",
    "\n",
    "In this next section, we are going to test our sentiment analysis model on real-world data, specifically reviews from one of my favorite restaurants, Torrisi, in New York City. To get access to these reviews, we will use the Google Maps API. Based on the documentation, before we can access reviews for a specific place, we first need to retrieve the `place_id` for that restaurant. We will use the Google Maps API's **Text Search** endpoint to locate the place by its name and return the necessary `place_id`.\n",
    "\n",
    "### Importing Required Libraries for further anylsis\n",
    "\n",
    "We begin by importing the necessary libraries for working with the Google Maps API and making HTTP requests."
   ]
  },
  {
   "cell_type": "code",
   "execution_count": 10,
   "id": "f9875e87-8f36-4879-9a79-24b638f6fa2b",
   "metadata": {},
   "outputs": [],
   "source": [
    "import googlemaps # Google Maps API client for Python\n",
    "import requests  # To send HTTP requests to the Google Maps API"
   ]
  },
  {
   "cell_type": "markdown",
   "id": "2e437d47-b5d1-4073-99af-8fa848c25d9e",
   "metadata": {},
   "source": [
    "### Setting Up the API Key and Client\n",
    "Here, we retrieve the Google Maps API key securely from our environment variables and set up the client using the `googlemaps` library. This client will be used to interact with the API."
   ]
  },
  {
   "cell_type": "code",
   "execution_count": 11,
   "id": "0366ba1d-0f35-438a-b317-d997e9a94c24",
   "metadata": {},
   "outputs": [],
   "source": [
    "google_api_key = os.environ[\"GOOGLE_MAPS_API_KEY\"] # Access the Google Maps API key from environment variables\n",
    "gmaps = googlemaps.Client(key=google_api_key) # Initialize the Google Maps API client, similar to how we did for the OpenAI Client"
   ]
  },
  {
   "cell_type": "markdown",
   "id": "ab642326-3fca-493e-950b-b381c2633b58",
   "metadata": {},
   "source": [
    "### Preparing the Query and API URL\n",
    "Next, we define the search query for \"Torrisi New York\" and construct the URL for the Text Search endpoint of the Google Maps API. This endpoint allows us to search for a place based on a query and returns information such as the place's location and `place_id`."
   ]
  },
  {
   "cell_type": "code",
   "execution_count": 12,
   "id": "089e751f-1c84-4c1f-bf5d-9f73d0163f2d",
   "metadata": {},
   "outputs": [],
   "source": [
    "query = 'Torrisi New York'\n",
    "\n",
    "url = f'https://maps.googleapis.com/maps/api/place/textsearch/json?query={query}&key={google_api_key}'"
   ]
  },
  {
   "cell_type": "markdown",
   "id": "0a4936e6-8b35-4ba7-a0b3-73a8df489669",
   "metadata": {},
   "source": [
    "### Sending the API Request\n",
    "We send an HTTP GET request to the Google Maps API using the constructed URL to retrieve information about the place, including its `place_id`."
   ]
  },
  {
   "cell_type": "code",
   "execution_count": 13,
   "id": "29705fa7-62a0-4a7c-8c1b-635098e2dcf8",
   "metadata": {},
   "outputs": [],
   "source": [
    "response = requests.get(url)"
   ]
  },
  {
   "cell_type": "markdown",
   "id": "a0f67512-4c60-4cfb-9d56-25ec6f881c2c",
   "metadata": {},
   "source": [
    "### Viewing the JSON Response\n",
    "Finally, we view the JSON response returned by the API. This response contains details about Torrissi, including the `place_id`, which will be necessary for retrieving reviews in the next step."
   ]
  },
  {
   "cell_type": "code",
   "execution_count": 14,
   "id": "45ca84c6-4b97-4382-a0c5-c101179d1299",
   "metadata": {},
   "outputs": [
    {
     "data": {
      "text/plain": [
       "{'html_attributions': [],\n",
       " 'results': [{'business_status': 'OPERATIONAL',\n",
       "   'formatted_address': '275 Mulberry St, New York, NY 10012, United States',\n",
       "   'geometry': {'location': {'lat': 40.7242743, 'lng': -73.9954023},\n",
       "    'viewport': {'northeast': {'lat': 40.72579502989272,\n",
       "      'lng': -73.99390067010728},\n",
       "     'southwest': {'lat': 40.72309537010728, 'lng': -73.99660032989273}}},\n",
       "   'icon': 'https://maps.gstatic.com/mapfiles/place_api/icons/v1/png_71/restaurant-71.png',\n",
       "   'icon_background_color': '#FF9E67',\n",
       "   'icon_mask_base_uri': 'https://maps.gstatic.com/mapfiles/place_api/icons/v2/restaurant_pinlet',\n",
       "   'name': 'Torrisi',\n",
       "   'opening_hours': {'open_now': False},\n",
       "   'photos': [{'height': 4234,\n",
       "     'html_attributions': ['<a href=\"https://maps.google.com/maps/contrib/114060081828057395826\">A Google User</a>'],\n",
       "     'photo_reference': 'AXCi2Q6sBraMyl6x0vSaQXAHPz2tmv_q7ek-31dKnbKCKI36UT5jg0dEKW9kDwesoVoKXbsHzaWWzqprT-nvROo8JI13epwM7hKE7I4G84WHTWKi7kYMqPP6vSxBaiN1UNzErrZl00L1EHxp6qS_TQWxCy48erTVpfP6S99Yg_d72H57M-4T',\n",
       "     'width': 6348}],\n",
       "   'place_id': 'ChIJWd7fRdZZwokRhru5tn4KsVM',\n",
       "   'plus_code': {'compound_code': 'P2F3+PR New York',\n",
       "    'global_code': '87G8P2F3+PR'},\n",
       "   'rating': 4.6,\n",
       "   'reference': 'ChIJWd7fRdZZwokRhru5tn4KsVM',\n",
       "   'types': ['restaurant', 'food', 'point_of_interest', 'establishment'],\n",
       "   'user_ratings_total': 473}],\n",
       " 'status': 'OK'}"
      ]
     },
     "execution_count": 14,
     "metadata": {},
     "output_type": "execute_result"
    }
   ],
   "source": [
    "response.json()"
   ]
  },
  {
   "cell_type": "markdown",
   "id": "39e1b8ef-09fe-45bb-8f1b-fa3526bcb946",
   "metadata": {},
   "source": [
    "### Fetching Place Details Including Reviews\n",
    "Now that we have the `place_id` for Torrissi, we can use it to request detailed information, including customer reviews. In this step, we build a new URL that queries the Google Maps API's **Place Details** endpoint. We specify that we want to retrieve both the place's name and reviews.\n",
    "\n",
    "This step will allow us to analyze real customer reviews and later use our sentiment analysis model to evaluate the feedback."
   ]
  },
  {
   "cell_type": "code",
   "execution_count": 15,
   "id": "662901c9-4181-4363-820c-0b4341f200e4",
   "metadata": {},
   "outputs": [],
   "source": [
    "place_id = response.json()['results'][0]['place_id'] # we get this from inspecting the json format above to know the structure of the response\n",
    "url = f'https://maps.googleapis.com/maps/api/place/details/json?place_id={place_id}&fields=name,reviews&key={google_api_key}'"
   ]
  },
  {
   "cell_type": "markdown",
   "id": "9dbcd36f-333d-4217-9ecc-ba427edf9bf7",
   "metadata": {},
   "source": [
    "The 'fields=name,reviews' part of the url specifies what data we want returned from the API call."
   ]
  },
  {
   "cell_type": "markdown",
   "id": "887379d1-8788-4029-bd7e-f65ee62b87dd",
   "metadata": {},
   "source": [
    "### Viewing the JSON Response with Reviews\n",
    "\n",
    "After making the request, we view the JSON response to inspect the details of the reviews returned by the API. This response contains multiple customer reviews, including fields like the author's name, profile photo URL, review text, and rating. \n",
    "\n",
    "This data will provide the foundation for our next step, where we will apply sentiment analysis to understand the overall sentiment of the feedback received by Torrisi."
   ]
  },
  {
   "cell_type": "code",
   "execution_count": 16,
   "id": "3984946b-acb1-4307-9524-36890a21c211",
   "metadata": {},
   "outputs": [],
   "source": [
    "response = requests.get(url)"
   ]
  },
  {
   "cell_type": "code",
   "execution_count": 17,
   "id": "d7d12949-5453-4be1-b20d-7a7ef1f8aff6",
   "metadata": {},
   "outputs": [
    {
     "data": {
      "text/plain": [
       "{'html_attributions': [],\n",
       " 'result': {'name': 'Torrisi',\n",
       "  'reviews': [{'author_name': 'Katie Horsfield',\n",
       "    'author_url': 'https://www.google.com/maps/contrib/103043567727709152114/reviews',\n",
       "    'language': 'en',\n",
       "    'original_language': 'en',\n",
       "    'profile_photo_url': 'https://lh3.googleusercontent.com/a-/ALV-UjVCdleYhI8SRnlbMdrF5h06NgZwULDiyykIwplZ4fakAgb7gjXs=s128-c0x00000000-cc-rp-mo-ba6',\n",
       "    'rating': 5,\n",
       "    'relative_time_description': '3 weeks ago',\n",
       "    'text': \"Incredible dining experience! I had read lots of reviews and seen lots of social media content about Torrisi before dining here, and I was not disappointed.\\n\\nI was dining alone and seated at the bar. My server was very friendly and talked me through the menu, served my drinks and also took my order.\\n\\nI had a garibaldi cocktail which was great and later a glass of white wine. The drinks selection is excellent. To eat, I started with the cucumber salad which was so fresh and delicious. I then had the famous tortellini filled with ricotta cheese and in a pomodoro sauce. This was honestly one of the best pasta dishes I have ever eaten. So good!\\n\\nThe restaurant has a great ambience and feels very 'New York'. Service was fantastic. And the food and drinks are on the pricey side but absolutely worth it! Highly recommend.\",\n",
       "    'time': 1725842090,\n",
       "    'translated': False},\n",
       "   {'author_name': 'David Makris',\n",
       "    'author_url': 'https://www.google.com/maps/contrib/108655152644455739474/reviews',\n",
       "    'language': 'en',\n",
       "    'original_language': 'en',\n",
       "    'profile_photo_url': 'https://lh3.googleusercontent.com/a/ACg8ocLveuJvoUxYXQoCJshk9eQuuY91y5rOESa0QgzLPjx8CvdQAw=s128-c0x00000000-cc-rp-mo-ba5',\n",
       "    'rating': 5,\n",
       "    'relative_time_description': 'a month ago',\n",
       "    'text': 'Been to Torrisi twice now and it’s a home run each time. I’d love to recommend specifics but everything is delicious and of the highest quality. Some items like the Jamaican pasta, lamb and the ham & zeppoles are very unique and must be ordered but really you can’t go wrong here. The cocktails and wines by the glass are perfect, and the service is on point as well. Torrisi is difficult to get into but it is worth the effort!',\n",
       "    'time': 1724014326,\n",
       "    'translated': False},\n",
       "   {'author_name': 'kelana 2',\n",
       "    'author_url': 'https://www.google.com/maps/contrib/108431673254955237866/reviews',\n",
       "    'language': 'en',\n",
       "    'original_language': 'en',\n",
       "    'profile_photo_url': 'https://lh3.googleusercontent.com/a/ACg8ocKY_sij0K3AciUwDDQq25KTAhfaSOycWQ96zsTOGHB9Unm9hA=s128-c0x00000000-cc-rp-mo-ba4',\n",
       "    'rating': 4,\n",
       "    'relative_time_description': 'a week ago',\n",
       "    'text': 'Jul 24\\n\\nLunch 4 of us\\n\\nNice ambient restaurant\\n\\nOverall 9/10 but do note this is italian mix chinese a bit taste style not fully italian from our taste. Not the kind Carbone Italian taste.\\n\\nVery crowded om weekday lunch time. Meed to wait for 20-30 minutes for our table and there is no seating while waiting\\n\\nService is prompt and knowledgable and good recommendation for first timer coming here\\n\\nFoods 9/10.. taste and texture italian mix with a bit chinese style. Especially the pasta dumpling 😁😁\\n\\nThe mackerels are delicious\\n\\nDessert affocado fantastic… to come again for',\n",
       "    'time': 1726910190,\n",
       "    'translated': False},\n",
       "   {'author_name': 'Koda Ko',\n",
       "    'author_url': 'https://www.google.com/maps/contrib/101532166875651454917/reviews',\n",
       "    'language': 'en',\n",
       "    'original_language': 'en',\n",
       "    'profile_photo_url': 'https://lh3.googleusercontent.com/a-/ALV-UjXu4wUZKv5z2Ak7AThBcDNy0n8fm_g-RF97fUYE01l-ST75Ib4q=s128-c0x00000000-cc-rp-mo-ba5',\n",
       "    'rating': 5,\n",
       "    'relative_time_description': 'in the last week',\n",
       "    'text': 'Everything was so good! Pomodoro was classic and great, and Chicken alla griglia was very flavorful - the sauce tasted like Foie gras and the chicken was juicy and crispy outside. Linguini clam sauce was a bit salty to me, but went well with their sesame bread. Don’t skip dessert - get the affogato! Their affogato is so special, which is made of mascarpone cheese, ice cream, chocolate, and they shaved decaf coffee ice on top of it! It was very scrumptious!',\n",
       "    'time': 1727363598,\n",
       "    'translated': False},\n",
       "   {'author_name': 'S K',\n",
       "    'author_url': 'https://www.google.com/maps/contrib/114388572357158929445/reviews',\n",
       "    'language': 'en',\n",
       "    'original_language': 'en',\n",
       "    'profile_photo_url': 'https://lh3.googleusercontent.com/a-/ALV-UjWMIi8gXpn2ZEdZcW1L5taPIfVZw0Lnrim26MqDExbhMlQ14cE=s128-c0x00000000-cc-rp-mo-ba4',\n",
       "    'rating': 5,\n",
       "    'relative_time_description': '4 months ago',\n",
       "    'text': \"I recently had dinner at Torrisi in Manhattan with my fiancé, and it was such a great experience! Everything we ordered was super delicious, and we didn't have to wait at all since our table was ready right on time.\\n\\nThe drinks were amazing, and our server, William, was awesome. He was so nice and really professional, making sure we had everything we needed.\\n\\nThe restaurant itself is gorgeous, with beautiful details and a really nice vibe. It added a lot to the whole experience.\\n\\nOverall, I had a fantastic time and would totally recommend Torrisi. It's a delicious spot with a great atmosphere and awesome service!\",\n",
       "    'time': 1716469862,\n",
       "    'translated': False}]},\n",
       " 'status': 'OK'}"
      ]
     },
     "execution_count": 17,
     "metadata": {},
     "output_type": "execute_result"
    }
   ],
   "source": [
    "response.json()"
   ]
  },
  {
   "cell_type": "markdown",
   "id": "165f2359-5532-4d90-b77d-2fb4b1fd1e3f",
   "metadata": {},
   "source": [
    "As a quick sense check, we do a scan of the 'reviews', which tells us that we expect our sentiment analysis model to return 'positive' for all the reviews"
   ]
  },
  {
   "cell_type": "markdown",
   "id": "0822ffa0-27b4-4b68-be6d-5512563a1d2e",
   "metadata": {},
   "source": [
    "### Extracting Reviews from the API Response\n",
    "In this cell, we extract reviews from the API's JSON response. We first check if the status of the response is 'OK' to ensure the data is valid. Then, we extract the name of the place and the reviews. \n",
    "\n",
    "Only specific fields are extracted from each review: the author's name, the time when the review was written, and the review text. If the data retrieval fails, an error message is printed. Finally, the extracted reviews are stored in a DataFrame for further analysis.\n"
   ]
  },
  {
   "cell_type": "code",
   "execution_count": 18,
   "id": "8d89950a-b171-41e7-b40d-94dbc00f2ff4",
   "metadata": {},
   "outputs": [],
   "source": [
    "# Extract reviews\n",
    "data = response.json()\n",
    "\n",
    "reviews = []\n",
    "if data['status'] == 'OK':\n",
    "    reviews_data = data['result'].get('reviews', [])\n",
    "    place_name = data['result'].get('name', 'Unknown Place')\n",
    "\n",
    "    # Extract only the required fields\n",
    "    for review in reviews_data:\n",
    "        reviews.append({\n",
    "            'author': review.get('author_name', ''),\n",
    "            'time': review.get('relative_time_description', ''),\n",
    "            'text': review.get('text', '')\n",
    "        })\n",
    "else:\n",
    "    print('Error fetching reviews')\n",
    "\n",
    "df_reviews = pd.DataFrame(reviews)"
   ]
  },
  {
   "cell_type": "markdown",
   "id": "267201ad-3763-42b1-b450-7e86d515986f",
   "metadata": {},
   "source": [
    "### Displaying the DataFrame of Reviews\n",
    "Here, we display the DataFrame `df_reviews`, which contains the extracted reviews. The table shows the author's name, the time when the review was written, and the text of the review itself. This allows us to visually inspect the reviews before we apply any analysis.\n"
   ]
  },
  {
   "cell_type": "code",
   "execution_count": 19,
   "id": "5f2a0da6-ad44-470d-9eac-cca1efa80647",
   "metadata": {},
   "outputs": [
    {
     "data": {
      "text/html": [
       "<div>\n",
       "<style scoped>\n",
       "    .dataframe tbody tr th:only-of-type {\n",
       "        vertical-align: middle;\n",
       "    }\n",
       "\n",
       "    .dataframe tbody tr th {\n",
       "        vertical-align: top;\n",
       "    }\n",
       "\n",
       "    .dataframe thead th {\n",
       "        text-align: right;\n",
       "    }\n",
       "</style>\n",
       "<table border=\"1\" class=\"dataframe\">\n",
       "  <thead>\n",
       "    <tr style=\"text-align: right;\">\n",
       "      <th></th>\n",
       "      <th>author</th>\n",
       "      <th>time</th>\n",
       "      <th>text</th>\n",
       "    </tr>\n",
       "  </thead>\n",
       "  <tbody>\n",
       "    <tr>\n",
       "      <th>0</th>\n",
       "      <td>Katie Horsfield</td>\n",
       "      <td>3 weeks ago</td>\n",
       "      <td>Incredible dining experience! I had read lots ...</td>\n",
       "    </tr>\n",
       "    <tr>\n",
       "      <th>1</th>\n",
       "      <td>David Makris</td>\n",
       "      <td>a month ago</td>\n",
       "      <td>Been to Torrisi twice now and it’s a home run ...</td>\n",
       "    </tr>\n",
       "    <tr>\n",
       "      <th>2</th>\n",
       "      <td>kelana 2</td>\n",
       "      <td>a week ago</td>\n",
       "      <td>Jul 24\\n\\nLunch 4 of us\\n\\nNice ambient restau...</td>\n",
       "    </tr>\n",
       "    <tr>\n",
       "      <th>3</th>\n",
       "      <td>Koda Ko</td>\n",
       "      <td>in the last week</td>\n",
       "      <td>Everything was so good! Pomodoro was classic a...</td>\n",
       "    </tr>\n",
       "    <tr>\n",
       "      <th>4</th>\n",
       "      <td>S K</td>\n",
       "      <td>4 months ago</td>\n",
       "      <td>I recently had dinner at Torrisi in Manhattan ...</td>\n",
       "    </tr>\n",
       "  </tbody>\n",
       "</table>\n",
       "</div>"
      ],
      "text/plain": [
       "            author              time  \\\n",
       "0  Katie Horsfield       3 weeks ago   \n",
       "1     David Makris       a month ago   \n",
       "2         kelana 2        a week ago   \n",
       "3          Koda Ko  in the last week   \n",
       "4              S K      4 months ago   \n",
       "\n",
       "                                                text  \n",
       "0  Incredible dining experience! I had read lots ...  \n",
       "1  Been to Torrisi twice now and it’s a home run ...  \n",
       "2  Jul 24\\n\\nLunch 4 of us\\n\\nNice ambient restau...  \n",
       "3  Everything was so good! Pomodoro was classic a...  \n",
       "4  I recently had dinner at Torrisi in Manhattan ...  "
      ]
     },
     "execution_count": 19,
     "metadata": {},
     "output_type": "execute_result"
    }
   ],
   "source": [
    "df_reviews"
   ]
  },
  {
   "cell_type": "markdown",
   "id": "29da4c66-17c7-4584-935f-dcdd84cfec6c",
   "metadata": {},
   "source": [
    "We also inspect the text, i.e., the review, of the first row in our dataframe."
   ]
  },
  {
   "cell_type": "code",
   "execution_count": 20,
   "id": "99c63443-3de4-441a-93fb-bebdeadde853",
   "metadata": {},
   "outputs": [
    {
     "data": {
      "text/plain": [
       "\"Incredible dining experience! I had read lots of reviews and seen lots of social media content about Torrisi before dining here, and I was not disappointed.\\n\\nI was dining alone and seated at the bar. My server was very friendly and talked me through the menu, served my drinks and also took my order.\\n\\nI had a garibaldi cocktail which was great and later a glass of white wine. The drinks selection is excellent. To eat, I started with the cucumber salad which was so fresh and delicious. I then had the famous tortellini filled with ricotta cheese and in a pomodoro sauce. This was honestly one of the best pasta dishes I have ever eaten. So good!\\n\\nThe restaurant has a great ambience and feels very 'New York'. Service was fantastic. And the food and drinks are on the pricey side but absolutely worth it! Highly recommend.\""
      ]
     },
     "execution_count": 20,
     "metadata": {},
     "output_type": "execute_result"
    }
   ],
   "source": [
    "df_reviews.iloc[0]['text']"
   ]
  },
  {
   "cell_type": "markdown",
   "id": "4ef66670-a6a0-4db1-b47c-6964d28f4645",
   "metadata": {},
   "source": [
    "Great, this data is now in a format that we can analyse further."
   ]
  },
  {
   "cell_type": "markdown",
   "id": "5dadce58-b176-40be-9a05-3e9d81b765c9",
   "metadata": {},
   "source": [
    "### Defining a Function to Analyze Sentiment of Reviews\n",
    "This function applies the exact same logic we used earlier for sentiment analysis but has now been encapsulated into a reusable function. By turning this into a function, we can call it multiple times on different reviews in our DataFrame, rather than running the logic on a single review at a time.\n",
    "\n",
    "The function sends the review text to the GPT-4 model with the prompt to classify the sentiment as either 'positive,' 'neutral,' or 'negative,' and returns the result for each review. This allows us to apply sentiment analysis to several rows in the DataFrame efficiently."
   ]
  },
  {
   "cell_type": "code",
   "execution_count": 21,
   "id": "009766f7-1a6a-41ca-bd0f-e04bcf37bc61",
   "metadata": {},
   "outputs": [],
   "source": [
    "def analyze_review_sentiment(review_text):\n",
    "\n",
    "    response = client.chat.completions.create(\n",
    "        model=\"gpt-4\",\n",
    "        messages=[\n",
    "            {\"role\": \"system\", \"content\": \n",
    "             \"\"\"Analyze the following restaurant review. Tell me if the sentiment is positive, neutral, or negative.\n",
    "             Respond with only one of these words. Provide no further explanation\"\"\"},\n",
    "            {\"role\": \"user\", \"content\": review_text},\n",
    "        ]\n",
    "    )\n",
    "\n",
    "    return response.choices[0].message.content.strip()"
   ]
  },
  {
   "cell_type": "markdown",
   "id": "cc6f1a98-da41-48c5-8269-dc29f7dc5f6a",
   "metadata": {},
   "source": [
    "### Creating the Sentiment Analysis Function for the DataFrame\n",
    "In this cell, we define a new function `sentiment_analysis` that processes an entire DataFrame of reviews. First, it creates a new 'sentiment' column in the DataFrame and initializes it with empty values. Then, we apply the `analyze_review_sentiment` function (defined above) to the 'text' column of the DataFrame, which analyzes each review and fills the 'sentiment' column with the corresponding result.\n",
    "\n",
    "This allows us to efficiently analyze sentiment for multiple reviews at once."
   ]
  },
  {
   "cell_type": "code",
   "execution_count": 22,
   "id": "0f789831-bf80-4f5e-b03a-019f6ef89d9c",
   "metadata": {},
   "outputs": [],
   "source": [
    "def sentiment_analysis(df):\n",
    "    df['sentiment'] = '' # This creates the sentiment column\n",
    "    df['sentiment'] = df['text'].apply(analyze_review_sentiment) # This applies the sentiment analysis function to each review in the dataframe\n",
    "    return df"
   ]
  },
  {
   "cell_type": "markdown",
   "id": "805137d6-5d91-465c-a6ec-5293ae76a5e3",
   "metadata": {},
   "source": [
    "### Applying Sentiment Analysis to the DataFrame\n",
    "We now call the `sentiment_analysis` function on the `df_reviews` DataFrame, which applies the sentiment analysis \n",
    "to each review and returns a new DataFrame with an additional 'sentiment' column. This column reflects the model's \n",
    "determination of whether each review is positive, neutral, or negative."
   ]
  },
  {
   "cell_type": "code",
   "execution_count": 23,
   "id": "12a63338-d698-40a4-89fe-ed0060c3efb0",
   "metadata": {},
   "outputs": [],
   "source": [
    "df_sentiment = sentiment_analysis(df_reviews)"
   ]
  },
  {
   "cell_type": "markdown",
   "id": "7820f81b-f36e-44da-be95-82a4f146cfbe",
   "metadata": {},
   "source": [
    "### Displaying the Resulting DataFrame with Sentiment\n",
    "Here, we display the updated DataFrame, which now includes a 'sentiment' column that shows the sentiment of each review. Perhaps without surprise, all the reviews for Torrisi are classified as 'Positive', which is fantastic news! \n",
    "\n",
    "It’s clear that the restaurant is highly regarded, and these reviews show that customers are enjoying their experiences. "
   ]
  },
  {
   "cell_type": "code",
   "execution_count": 24,
   "id": "b71e2899-3afd-4838-8d42-884cc516dde3",
   "metadata": {},
   "outputs": [
    {
     "data": {
      "text/html": [
       "<div>\n",
       "<style scoped>\n",
       "    .dataframe tbody tr th:only-of-type {\n",
       "        vertical-align: middle;\n",
       "    }\n",
       "\n",
       "    .dataframe tbody tr th {\n",
       "        vertical-align: top;\n",
       "    }\n",
       "\n",
       "    .dataframe thead th {\n",
       "        text-align: right;\n",
       "    }\n",
       "</style>\n",
       "<table border=\"1\" class=\"dataframe\">\n",
       "  <thead>\n",
       "    <tr style=\"text-align: right;\">\n",
       "      <th></th>\n",
       "      <th>author</th>\n",
       "      <th>time</th>\n",
       "      <th>text</th>\n",
       "      <th>sentiment</th>\n",
       "    </tr>\n",
       "  </thead>\n",
       "  <tbody>\n",
       "    <tr>\n",
       "      <th>0</th>\n",
       "      <td>Katie Horsfield</td>\n",
       "      <td>3 weeks ago</td>\n",
       "      <td>Incredible dining experience! I had read lots ...</td>\n",
       "      <td>Positive</td>\n",
       "    </tr>\n",
       "    <tr>\n",
       "      <th>1</th>\n",
       "      <td>David Makris</td>\n",
       "      <td>a month ago</td>\n",
       "      <td>Been to Torrisi twice now and it’s a home run ...</td>\n",
       "      <td>Positive</td>\n",
       "    </tr>\n",
       "    <tr>\n",
       "      <th>2</th>\n",
       "      <td>kelana 2</td>\n",
       "      <td>a week ago</td>\n",
       "      <td>Jul 24\\n\\nLunch 4 of us\\n\\nNice ambient restau...</td>\n",
       "      <td>Positive</td>\n",
       "    </tr>\n",
       "    <tr>\n",
       "      <th>3</th>\n",
       "      <td>Koda Ko</td>\n",
       "      <td>in the last week</td>\n",
       "      <td>Everything was so good! Pomodoro was classic a...</td>\n",
       "      <td>Positive</td>\n",
       "    </tr>\n",
       "    <tr>\n",
       "      <th>4</th>\n",
       "      <td>S K</td>\n",
       "      <td>4 months ago</td>\n",
       "      <td>I recently had dinner at Torrisi in Manhattan ...</td>\n",
       "      <td>Positive</td>\n",
       "    </tr>\n",
       "  </tbody>\n",
       "</table>\n",
       "</div>"
      ],
      "text/plain": [
       "            author              time  \\\n",
       "0  Katie Horsfield       3 weeks ago   \n",
       "1     David Makris       a month ago   \n",
       "2         kelana 2        a week ago   \n",
       "3          Koda Ko  in the last week   \n",
       "4              S K      4 months ago   \n",
       "\n",
       "                                                text sentiment  \n",
       "0  Incredible dining experience! I had read lots ...  Positive  \n",
       "1  Been to Torrisi twice now and it’s a home run ...  Positive  \n",
       "2  Jul 24\\n\\nLunch 4 of us\\n\\nNice ambient restau...  Positive  \n",
       "3  Everything was so good! Pomodoro was classic a...  Positive  \n",
       "4  I recently had dinner at Torrisi in Manhattan ...  Positive  "
      ]
     },
     "execution_count": 24,
     "metadata": {},
     "output_type": "execute_result"
    }
   ],
   "source": [
    "df_sentiment"
   ]
  },
  {
   "cell_type": "markdown",
   "id": "1465896d-5517-4e20-ba93-695fae5d285f",
   "metadata": {},
   "source": [
    "### Final Note on Google Reviews API Limitation\n",
    "It's worth noting that Google returns only the most relevant 5 reviews through their API, so we may not be seeing the full spectrum of all customer feedback for Torrisi. Moreover, we are completely reliant on the embedding model used by OpenAI to 'understand' sentiment, i.e., we have no idea where the boundary is drawn between positive, neutral, and negative sentiment under the hood.\n",
    "\n",
    "While this means we aren't getting a 100% complete picture of all the reviews, this limited set is still valuable for testing and understanding \n",
    "how to apply sentiment analysis using APIs. Yet, it's a useful exercise in exploring how APIs can be integrated with machine learning models to analyze user feedback."
   ]
  }
 ],
 "metadata": {
  "kernelspec": {
   "display_name": "Python 3 (ipykernel)",
   "language": "python",
   "name": "python3"
  },
  "language_info": {
   "codemirror_mode": {
    "name": "ipython",
    "version": 3
   },
   "file_extension": ".py",
   "mimetype": "text/x-python",
   "name": "python",
   "nbconvert_exporter": "python",
   "pygments_lexer": "ipython3",
   "version": "3.11.7"
  }
 },
 "nbformat": 4,
 "nbformat_minor": 5
}
